{
 "cells": [
  {
   "cell_type": "markdown",
   "metadata": {
    "focus": false,
    "id": "69b9a648-bcc7-490d-9f9b-ea244d156bd6"
   },
   "source": [
    "<img src=\"http://imgur.com/1ZcRyrc.png\" style=\"float: left; margin: 15px; height: 80px\">\n",
    "\n",
    "\n",
    "# Web Scraping for Indeed.com and Predicting Salaries"
   ]
  },
  {
   "cell_type": "markdown",
   "metadata": {},
   "source": [
    "### Business Case Overview\n",
    "\n",
    "You're working as a data scientist for a contracting firm that's rapidly expanding. Now that they have their most valuable employee (you!), they need to leverage data to win more contracts. Your firm offers technology and scientific solutions and wants to be competitive in the hiring market. Your principal wants you to\n",
    "\n",
    "   - determine the industry factors that are most important in predicting the salary amounts for these data.\n",
    "\n",
    "To limit the scope, your principal has suggested that you *focus on data-related job postings*, e.g. data scientist, data analyst, research scientist, business intelligence, and any others you might think of. You may also want to decrease the scope by *limiting your search to a single region.*\n",
    "\n",
    "Hint: Aggregators like [Indeed.com](https://www.indeed.com) regularly pool job postings from a variety of markets and industries.\n",
    "\n",
    "**Goal:** Scrape your own data from a job aggregation tool like Indeed.com in order to collect the data to best answer this question.\n",
    "\n",
    "---\n",
    "\n",
    "### Directions\n",
    "\n",
    "In this project you will be leveraging a variety of skills. The first will be to use the web-scraping and/or API techniques you've learned to collect data on data jobs from Indeed.com or another aggregator. Once you have collected and cleaned the data, you will use it to address the question above."
   ]
  },
  {
   "cell_type": "markdown",
   "metadata": {},
   "source": [
    "### Factors that impact salary\n",
    "\n",
    "To predict salary the most appropriate approach would be a regression model.\n",
    "Here instead we just want to estimate which factors (like location, job title, job level, industry sector) lead to high or low salary and work with a classification model. To do so, split the salary into two groups of high and low salary, for example by choosing the median salary as a threshold (in principle you could choose any single or multiple splitting points).\n",
    "\n",
    "Use all the skills you have learned so far to build a predictive model.\n",
    "Whatever you decide to use, the most important thing is to justify your choices and interpret your results. *Communication of your process is key.* Note that most listings **DO NOT** come with salary information. You'll need to be able to extrapolate or predict the expected salaries for these listings."
   ]
  },
  {
   "cell_type": "markdown",
   "metadata": {
    "focus": false,
    "id": "a948d79c-5527-4c0d-ab23-f5d43ce72056"
   },
   "source": [
    "### Scraping job listings from Indeed.com"
   ]
  },
  {
   "cell_type": "markdown",
   "metadata": {
    "focus": true,
    "id": "7203e0c9-e437-4802-a6ad-7dc464f94436"
   },
   "source": [
    "We will be scraping job listings from Indeed.com using BeautifulSoup. Luckily, Indeed.com is a simple text page where we can easily find relevant entries.\n",
    "\n",
    "First, look at the source of an Indeed.com page: (http://www.indeed.com/jobs?q=data+scientist+%2420%2C000&l=New+York&start=10\").\n",
    "\n",
    "Notice, each job listing is underneath a `div` tag with a class name of `result`. We can use BeautifulSoup to extract those. "
   ]
  },
  {
   "cell_type": "markdown",
   "metadata": {
    "focus": false,
    "id": "9732c901-ae26-4160-8376-42e22dd327df"
   },
   "source": [
    "#### Setup a request (using `requests`) to the URL below. Use BeautifulSoup to parse the page and extract all results (HINT: Look for div tags with class name result)\n",
    "\n",
    "The URL here has many query parameters:\n",
    "\n",
    "- `q` for the job search\n",
    "- This is followed by \"+20,000\" to return results with salaries (or expected salaries >$20,000)\n",
    "- `l` for a location \n",
    "- `start` for what result number to start on"
   ]
  },
  {
   "cell_type": "code",
   "execution_count": 2,
   "metadata": {
    "focus": false,
    "id": "e915023e-6b0d-4982-af2a-b1e0355f4927"
   },
   "outputs": [],
   "source": [
    "#URL = \"http://www.indeed.com/jobs?q=data+scientist+%2420%2C000&l=New+York&start=10\""
   ]
  },
  {
   "cell_type": "code",
   "execution_count": 3,
   "metadata": {
    "focus": false,
    "id": "2efefc73-064a-482d-b3b5-ddf5508cb4ec"
   },
   "outputs": [],
   "source": [
    "import requests\n",
    "import bs4\n",
    "from bs4 import BeautifulSoup\n",
    "import re\n",
    "import pandas as pd\n",
    "import numpy as np\n",
    "import time\n",
    "from tqdm import tqdm_notebook"
   ]
  },
  {
   "cell_type": "code",
   "execution_count": 5,
   "metadata": {
    "focus": false,
    "id": "2c6752c4-7704-4c94-8bc0-6f13d2d0d570"
   },
   "outputs": [],
   "source": [
    "grab = requests.get(URL)\n",
    "soup = BeautifulSoup(grab.text,'html.parser')"
   ]
  },
  {
   "cell_type": "markdown",
   "metadata": {
    "focus": false,
    "id": "bb0b866a-26a7-45e9-8084-5a0f90eb4b3e"
   },
   "source": [
    "Let's look at one result more closely. A single `result` looks like\n",
    "\n",
    "```\n",
    "<div class=\" row result\" data-jk=\"2480d203f7e97210\" data-tn-component=\"organicJob\" id=\"p_2480d203f7e97210\" itemscope=\"\" itemtype=\"http://schema.org/JobPosting\">\n",
    "<h2 class=\"jobtitle\" id=\"jl_2480d203f7e97210\">\n",
    "<a class=\"turnstileLink\" data-tn-element=\"jobTitle\" onmousedown=\"return rclk(this,jobmap[0],1);\" rel=\"nofollow\" target=\"_blank\" title=\"AVP/Quantitative Analyst\">AVP/Quantitative Analyst</a>\n",
    "</h2>\n",
    "<span class=\"company\" itemprop=\"hiringOrganization\" itemtype=\"http://schema.org/Organization\">\n",
    "<span itemprop=\"name\">\n",
    "<a href=\"/cmp/Alliancebernstein?from=SERP&amp;campaignid=serp-linkcompanyname&amp;fromjk=2480d203f7e97210&amp;jcid=b374f2a780e04789\" target=\"_blank\">\n",
    "    AllianceBernstein</a></span>\n",
    "</span>\n",
    "<tr>\n",
    "<td class=\"snip\">\n",
    "<nobr>$117,500 - $127,500 a year</nobr>\n",
    "<div>\n",
    "<span class=\"summary\" itemprop=\"description\">\n",
    "C onduct quantitative and statistical research as well as portfolio management for various investment portfolios. Collaborate with Quantitative Analysts and</span>\n",
    "</div>\n",
    "</div>\n",
    "</td>\n",
    "</tr>\n",
    "</table>\n",
    "</div>\n",
    "```\n",
    "\n",
    "While this has some more verbose elements removed, we can see that there is some structure to the above:\n",
    "- The salary is in a `span` with `class='salaryText'`.\n",
    "- The title of a job is in a link with class set to `jobtitle` and a `data-tn-element='jobTitle'`.  \n",
    "- The location is set in a `span` with `class='location'`. \n",
    "- The company is set in a `span` with `class='company'`. \n",
    "- Decide which other components could be relevant, for example the region or the summary of the job advert."
   ]
  },
  {
   "cell_type": "markdown",
   "metadata": {
    "focus": false,
    "id": "f1eddb90-4ba8-483c-a229-77e93aa53119"
   },
   "source": [
    "### Write 4 functions to extract each item: location, company, job, and salary.\n",
    "\n",
    "Example: \n",
    "```python\n",
    "def extract_location_from_result(result):\n",
    "    return result.find ...\n",
    "```\n",
    "\n",
    "\n",
    "- **Make sure these functions are robust and can handle cases where the data/field may not be available.**\n",
    "    - Remember to check if a field is empty or `None` for attempting to call methods on it.\n",
    "    - Remember to use `try/except` if you anticipate errors.\n",
    "- **Test** the functions on the results above and simple examples."
   ]
  },
  {
   "cell_type": "code",
   "execution_count": 306,
   "metadata": {
    "focus": false,
    "id": "a1af53c9-9090-494f-b82e-cadb60a54909"
   },
   "outputs": [],
   "source": [
    "def extract_jobtitle_from_result(result):\n",
    "    try:\n",
    "        return result.find('a',attrs={'class':'jobtitle'})['title']\n",
    "        \n",
    "    except:\n",
    "        \n",
    "        return np.nan\n",
    "\n",
    "def extract_location_from_result(result):    \n",
    "    try:\n",
    "        return result.find('span',attrs={'class':'location accessible-contrast-color-location'}).text\n",
    "    \n",
    "    except:\n",
    "        \n",
    "        return np.nan\n",
    "        \n",
    "def extract_salary_from_result(result):\n",
    "    try:\n",
    "        return result.find('span',attrs={'class':\"salaryText\"}).text.strip()\n",
    "        \n",
    "    except:\n",
    "        \n",
    "        return np.nan\n",
    "\n",
    "def extract_company_from_result(result):\n",
    "    try:\n",
    "        return result.find('span',attrs={'class':\"company\"}).text.strip()\n",
    "        \n",
    "    except:\n",
    "        return np.nan\n",
    "    \n",
    "def extract_summary_from_result(result):\n",
    "    try:\n",
    "        return result.find('div',attrs={'class':re.compile(r'^jobsearch-jobDescriptionText?')})\n",
    "        \n",
    "    except:\n",
    "        return np.nan\n",
    "    \n",
    "def extract_href_from_result(result):\n",
    "    try:\n",
    "        return result.find('a')['href']\n",
    "        \n",
    "    except:\n",
    "        return np.nan"
   ]
  },
  {
   "cell_type": "markdown",
   "metadata": {
    "focus": false,
    "id": "34070e89-9521-4b45-90c8-57a6599aac68"
   },
   "source": [
    "Now, to scale up our scraping, we need to accumulate more results. We can do this by examining the URL above.\n",
    "\n",
    "- \"http://www.indeed.com/jobs?q=data+scientist+%2420%2C000&l=New+York&start=10\"\n",
    "\n",
    "There are two query parameters here we can alter to collect more results, the `l=New+York` and the `start=10`. The first controls the location of the results (so we can try a different city). The second controls where in the results to start and gives 10 results (thus, we can keep incrementing by 10 to go further in the list)."
   ]
  },
  {
   "cell_type": "markdown",
   "metadata": {
    "focus": false,
    "id": "e8beed7c-3e42-40c0-810f-5f67f8f885a0"
   },
   "source": [
    "### Complete the following code to collect results from multiple cities and starting points. \n",
    "- Enter your city below to add it to the search.\n",
    "- Remember to convert your salary to U.S. Dollars to match the other cities if the currency is different."
   ]
  },
  {
   "cell_type": "code",
   "execution_count": 790,
   "metadata": {},
   "outputs": [],
   "source": [
    "states_to_use = [\"Alabama\",\"Arizona\",\"Arkansas\",\"California\",\"Colorado\",\n",
    "  \"Connecticut\",\"Delaware\",\"Florida\",\"Georgia\",\"Hawaii\",\"Idaho\",\"Illinois\",\n",
    "  \"Indiana\",\"Iowa\",\"Kansas\",\"Kentucky\",\"Louisiana\",\"Maine\",\"Maryland\",\n",
    "  \"Massachusetts\",\"Michigan\",\"Minnesota\",\"Missouri\",\"Montana\",\"Nevada\",\"New Hampshire\",\"New Jersey\",\n",
    "\"New Mexico\",\"New York\",\"North Carolina\",\"Ohio\",\"Oregon\",\"Pennsylvania\",\n",
    "  \"Rhode Island\",\"Tennessee\",\"Texas\",\"Utah\",\"Virginia\",\"Washington\",\"Wisconsin\"]\n",
    "\n",
    "list_of_searchwords = ['data+scientist','data+analyst','research+scientist','business+intelligence','machine+learning']"
   ]
  },
  {
   "cell_type": "code",
   "execution_count": 791,
   "metadata": {},
   "outputs": [
    {
     "data": {
      "application/vnd.jupyter.widget-view+json": {
       "model_id": "14966820cc84445fb1604dde16b3c57a",
       "version_major": 2,
       "version_minor": 0
      },
      "text/plain": [
       "HBox(children=(IntProgress(value=0, max=40), HTML(value='')))"
      ]
     },
     "metadata": {},
     "output_type": "display_data"
    }
   ],
   "source": [
    "jobs_in_state = {'state':[],'role':[],'jobs':[]}\n",
    "\n",
    "for state in tqdm_notebook(states_to_use):\n",
    "    \n",
    "    for role in list_of_searchwords:\n",
    "    \n",
    "\n",
    "        count_url = f'https://www.indeed.com/jobs?as_ttl={role}&l={state}&radius=5000&fromage=any&limit=50&start=0&filter=0'\n",
    "\n",
    "        time.sleep(np.random.randint(0,2))\n",
    "\n",
    "        counter = requests.get(count_url)\n",
    "        soup_count = BeautifulSoup(counter.text,'html.parser')\n",
    "\n",
    "        try:\n",
    "            record_string = soup_count.find_all('div',attrs={'id':\"searchCountPages\"})[0].text\n",
    "            record_string = record_string.replace(\",\",\"\")\n",
    "            max_results_per_city = int(re.search(r\"(\\w+)\\sjobs\",record_string).group(1))\n",
    "            \n",
    "        except:\n",
    "            max_results_per_city = np.nan\n",
    "            \n",
    "        try:\n",
    "            true_pages = int(soup_count.find_all(\"span\",class_=\"pn\")[-2].text)\n",
    "            #print(true_pages,max_results_per_city)\n",
    "            \n",
    "        except:\n",
    "            true_pages = 0\n",
    "            #print(true_pages)\n",
    "\n",
    "        jobs_in_state['state'].append(state)\n",
    "        jobs_in_state['role'].append(role)\n",
    "        jobs_in_state['jobs'].append(max_results_per_city)    "
   ]
  },
  {
   "cell_type": "code",
   "execution_count": 823,
   "metadata": {},
   "outputs": [],
   "source": [
    "job_nums = pd.DataFrame(jobs_in_state).sort_values(by='jobs',ascending=False)\n",
    "state_searchlist = list(job_nums.groupby([\"state\"]).mean().sort_values(by=\"jobs\",ascending=True).index)\n",
    "role_searchlist = list(job_nums.groupby([\"role\"]).mean().sort_values(by=\"jobs\",ascending=True).index)"
   ]
  },
  {
   "cell_type": "code",
   "execution_count": 824,
   "metadata": {},
   "outputs": [
    {
     "data": {
      "text/html": [
       "<div>\n",
       "<style scoped>\n",
       "    .dataframe tbody tr th:only-of-type {\n",
       "        vertical-align: middle;\n",
       "    }\n",
       "\n",
       "    .dataframe tbody tr th {\n",
       "        vertical-align: top;\n",
       "    }\n",
       "\n",
       "    .dataframe thead th {\n",
       "        text-align: right;\n",
       "    }\n",
       "</style>\n",
       "<table border=\"1\" class=\"dataframe\">\n",
       "  <thead>\n",
       "    <tr style=\"text-align: right;\">\n",
       "      <th></th>\n",
       "      <th>state</th>\n",
       "      <th>role</th>\n",
       "      <th>jobs</th>\n",
       "    </tr>\n",
       "  </thead>\n",
       "  <tbody>\n",
       "  </tbody>\n",
       "</table>\n",
       "</div>"
      ],
      "text/plain": [
       "Empty DataFrame\n",
       "Columns: [state, role, jobs]\n",
       "Index: []"
      ]
     },
     "execution_count": 824,
     "metadata": {},
     "output_type": "execute_result"
    }
   ],
   "source": [
    "job_nums[job_nums.jobs.isna()]"
   ]
  },
  {
   "cell_type": "code",
   "execution_count": 883,
   "metadata": {
    "focus": false,
    "id": "04b0f9af-540e-402f-8292-81748707c676",
    "scrolled": true
   },
   "outputs": [
    {
     "data": {
      "application/vnd.jupyter.widget-view+json": {
       "model_id": "2cf16a6726ff4c6d8b4352432dce49e1",
       "version_major": 2,
       "version_minor": 0
      },
      "text/plain": [
       "HBox(children=(IntProgress(value=0, max=10), HTML(value='')))"
      ]
     },
     "metadata": {},
     "output_type": "display_data"
    },
    {
     "data": {
      "application/vnd.jupyter.widget-view+json": {
       "model_id": "61b202f0210e403a96fcc47c71dc83f9",
       "version_major": 2,
       "version_minor": 0
      },
      "text/plain": [
       "HBox(children=(IntProgress(value=0, max=5), HTML(value='')))"
      ]
     },
     "metadata": {},
     "output_type": "display_data"
    },
    {
     "data": {
      "application/vnd.jupyter.widget-view+json": {
       "model_id": "01721e6788b74ea08b9d1cabf376f14e",
       "version_major": 2,
       "version_minor": 0
      },
      "text/plain": [
       "HBox(children=(IntProgress(value=0, max=1), HTML(value='')))"
      ]
     },
     "metadata": {},
     "output_type": "display_data"
    },
    {
     "data": {
      "application/vnd.jupyter.widget-view+json": {
       "model_id": "eec07ff11f0d47a795f8fb59965517ad",
       "version_major": 2,
       "version_minor": 0
      },
      "text/plain": [
       "HBox(children=(IntProgress(value=0, max=2), HTML(value='')))"
      ]
     },
     "metadata": {},
     "output_type": "display_data"
    },
    {
     "data": {
      "application/vnd.jupyter.widget-view+json": {
       "model_id": "b5889f9fc4974b5cbf41b77498434b4d",
       "version_major": 2,
       "version_minor": 0
      },
      "text/plain": [
       "HBox(children=(IntProgress(value=0, max=2), HTML(value='')))"
      ]
     },
     "metadata": {},
     "output_type": "display_data"
    },
    {
     "data": {
      "application/vnd.jupyter.widget-view+json": {
       "model_id": "c88a0a0848a04297bbc541f388ddacbe",
       "version_major": 2,
       "version_minor": 0
      },
      "text/plain": [
       "HBox(children=(IntProgress(value=0, max=4), HTML(value='')))"
      ]
     },
     "metadata": {},
     "output_type": "display_data"
    },
    {
     "data": {
      "application/vnd.jupyter.widget-view+json": {
       "model_id": "2ecdb7b9b879424da7d027150fb75eba",
       "version_major": 2,
       "version_minor": 0
      },
      "text/plain": [
       "HBox(children=(IntProgress(value=0, max=6), HTML(value='')))"
      ]
     },
     "metadata": {},
     "output_type": "display_data"
    },
    {
     "data": {
      "application/vnd.jupyter.widget-view+json": {
       "model_id": "2818be41d3f14075ba34587ba572483e",
       "version_major": 2,
       "version_minor": 0
      },
      "text/plain": [
       "HBox(children=(IntProgress(value=0, max=5), HTML(value='')))"
      ]
     },
     "metadata": {},
     "output_type": "display_data"
    },
    {
     "data": {
      "application/vnd.jupyter.widget-view+json": {
       "model_id": "c562fb79d1ca466597088ad6d89f23d9",
       "version_major": 2,
       "version_minor": 0
      },
      "text/plain": [
       "HBox(children=(IntProgress(value=0, max=1), HTML(value='')))"
      ]
     },
     "metadata": {},
     "output_type": "display_data"
    },
    {
     "data": {
      "application/vnd.jupyter.widget-view+json": {
       "model_id": "3f1321d42e3c4f5788bbabc8eb55be86",
       "version_major": 2,
       "version_minor": 0
      },
      "text/plain": [
       "HBox(children=(IntProgress(value=0, max=1), HTML(value='')))"
      ]
     },
     "metadata": {},
     "output_type": "display_data"
    },
    {
     "data": {
      "application/vnd.jupyter.widget-view+json": {
       "model_id": "aec94c97ff174282add8655593dad132",
       "version_major": 2,
       "version_minor": 0
      },
      "text/plain": [
       "HBox(children=(IntProgress(value=0, max=3), HTML(value='')))"
      ]
     },
     "metadata": {},
     "output_type": "display_data"
    },
    {
     "data": {
      "application/vnd.jupyter.widget-view+json": {
       "model_id": "4125f500d0734614be0fb98f4342564a",
       "version_major": 2,
       "version_minor": 0
      },
      "text/plain": [
       "HBox(children=(IntProgress(value=0, max=3), HTML(value='')))"
      ]
     },
     "metadata": {},
     "output_type": "display_data"
    },
    {
     "data": {
      "application/vnd.jupyter.widget-view+json": {
       "model_id": "cca4cd49e1474d77901c4e01553ad738",
       "version_major": 2,
       "version_minor": 0
      },
      "text/plain": [
       "HBox(children=(IntProgress(value=0, max=6), HTML(value='')))"
      ]
     },
     "metadata": {},
     "output_type": "display_data"
    },
    {
     "data": {
      "application/vnd.jupyter.widget-view+json": {
       "model_id": "edff4c1e8c964fdc930577170ded3cb3",
       "version_major": 2,
       "version_minor": 0
      },
      "text/plain": [
       "HBox(children=(IntProgress(value=0, max=5), HTML(value='')))"
      ]
     },
     "metadata": {},
     "output_type": "display_data"
    },
    {
     "data": {
      "application/vnd.jupyter.widget-view+json": {
       "model_id": "aaede33667df45f7a0049ecaf5d58c3a",
       "version_major": 2,
       "version_minor": 0
      },
      "text/plain": [
       "HBox(children=(IntProgress(value=0, max=2), HTML(value='')))"
      ]
     },
     "metadata": {},
     "output_type": "display_data"
    },
    {
     "data": {
      "application/vnd.jupyter.widget-view+json": {
       "model_id": "da5b010cd14e49539118fe30d8f29a4e",
       "version_major": 2,
       "version_minor": 0
      },
      "text/plain": [
       "HBox(children=(IntProgress(value=0, max=2), HTML(value='')))"
      ]
     },
     "metadata": {},
     "output_type": "display_data"
    },
    {
     "data": {
      "application/vnd.jupyter.widget-view+json": {
       "model_id": "05fc4cb35bdd49fe9aabaf79854590ea",
       "version_major": 2,
       "version_minor": 0
      },
      "text/plain": [
       "HBox(children=(IntProgress(value=0, max=2), HTML(value='')))"
      ]
     },
     "metadata": {},
     "output_type": "display_data"
    },
    {
     "data": {
      "application/vnd.jupyter.widget-view+json": {
       "model_id": "33cbfe150f154e5f91f4af2f7d21cb11",
       "version_major": 2,
       "version_minor": 0
      },
      "text/plain": [
       "HBox(children=(IntProgress(value=0, max=3), HTML(value='')))"
      ]
     },
     "metadata": {},
     "output_type": "display_data"
    },
    {
     "data": {
      "application/vnd.jupyter.widget-view+json": {
       "model_id": "304c77a52e2a483f85b8bcf6441d348f",
       "version_major": 2,
       "version_minor": 0
      },
      "text/plain": [
       "HBox(children=(IntProgress(value=0, max=6), HTML(value='')))"
      ]
     },
     "metadata": {},
     "output_type": "display_data"
    },
    {
     "data": {
      "application/vnd.jupyter.widget-view+json": {
       "model_id": "720b5531917f493b9721b881298d6b5c",
       "version_major": 2,
       "version_minor": 0
      },
      "text/plain": [
       "HBox(children=(IntProgress(value=0, max=5), HTML(value='')))"
      ]
     },
     "metadata": {},
     "output_type": "display_data"
    },
    {
     "data": {
      "application/vnd.jupyter.widget-view+json": {
       "model_id": "197856418d4c43a9ab6b70677a7c0029",
       "version_major": 2,
       "version_minor": 0
      },
      "text/plain": [
       "HBox(children=(IntProgress(value=0, max=1), HTML(value='')))"
      ]
     },
     "metadata": {},
     "output_type": "display_data"
    },
    {
     "data": {
      "application/vnd.jupyter.widget-view+json": {
       "model_id": "e92bae66f1d64d51ac18912a558dfab7",
       "version_major": 2,
       "version_minor": 0
      },
      "text/plain": [
       "HBox(children=(IntProgress(value=0, max=1), HTML(value='')))"
      ]
     },
     "metadata": {},
     "output_type": "display_data"
    },
    {
     "data": {
      "application/vnd.jupyter.widget-view+json": {
       "model_id": "d573e0a3b4044e8991e796dcfe658a53",
       "version_major": 2,
       "version_minor": 0
      },
      "text/plain": [
       "HBox(children=(IntProgress(value=0, max=3), HTML(value='')))"
      ]
     },
     "metadata": {},
     "output_type": "display_data"
    },
    {
     "data": {
      "application/vnd.jupyter.widget-view+json": {
       "model_id": "fdfa5cb88ec6470db1bcf7545b658eae",
       "version_major": 2,
       "version_minor": 0
      },
      "text/plain": [
       "HBox(children=(IntProgress(value=0, max=5), HTML(value='')))"
      ]
     },
     "metadata": {},
     "output_type": "display_data"
    },
    {
     "data": {
      "application/vnd.jupyter.widget-view+json": {
       "model_id": "f318a9a6272c4fe3bb6d08d0e6841eaf",
       "version_major": 2,
       "version_minor": 0
      },
      "text/plain": [
       "HBox(children=(IntProgress(value=0, max=7), HTML(value='')))"
      ]
     },
     "metadata": {},
     "output_type": "display_data"
    },
    {
     "data": {
      "application/vnd.jupyter.widget-view+json": {
       "model_id": "5439233f6a9c4f0b81475d0ee1800347",
       "version_major": 2,
       "version_minor": 0
      },
      "text/plain": [
       "HBox(children=(IntProgress(value=0, max=5), HTML(value='')))"
      ]
     },
     "metadata": {},
     "output_type": "display_data"
    },
    {
     "data": {
      "application/vnd.jupyter.widget-view+json": {
       "model_id": "5ecaffcfe09445499b6645b7bfe4ca70",
       "version_major": 2,
       "version_minor": 0
      },
      "text/plain": [
       "HBox(children=(IntProgress(value=0, max=4), HTML(value='')))"
      ]
     },
     "metadata": {},
     "output_type": "display_data"
    },
    {
     "data": {
      "application/vnd.jupyter.widget-view+json": {
       "model_id": "a7388c728def431a9d5c6144b4182028",
       "version_major": 2,
       "version_minor": 0
      },
      "text/plain": [
       "HBox(children=(IntProgress(value=0, max=6), HTML(value='')))"
      ]
     },
     "metadata": {},
     "output_type": "display_data"
    },
    {
     "data": {
      "application/vnd.jupyter.widget-view+json": {
       "model_id": "2b11f33b69c2470bb1660d1b0ee54fc0",
       "version_major": 2,
       "version_minor": 0
      },
      "text/plain": [
       "HBox(children=(IntProgress(value=0, max=2), HTML(value='')))"
      ]
     },
     "metadata": {},
     "output_type": "display_data"
    },
    {
     "data": {
      "application/vnd.jupyter.widget-view+json": {
       "model_id": "50a3873d4967431e96cce266461debd9",
       "version_major": 2,
       "version_minor": 0
      },
      "text/plain": [
       "HBox(children=(IntProgress(value=0, max=6), HTML(value='')))"
      ]
     },
     "metadata": {},
     "output_type": "display_data"
    },
    {
     "data": {
      "application/vnd.jupyter.widget-view+json": {
       "model_id": "f4dbd6f0c9524b3fa1af7bbd897776aa",
       "version_major": 2,
       "version_minor": 0
      },
      "text/plain": [
       "HBox(children=(IntProgress(value=0, max=7), HTML(value='')))"
      ]
     },
     "metadata": {},
     "output_type": "display_data"
    },
    {
     "data": {
      "application/vnd.jupyter.widget-view+json": {
       "model_id": "f05aff6678c343e9a62c939e32175506",
       "version_major": 2,
       "version_minor": 0
      },
      "text/plain": [
       "HBox(children=(IntProgress(value=0, max=5), HTML(value='')))"
      ]
     },
     "metadata": {},
     "output_type": "display_data"
    },
    {
     "data": {
      "application/vnd.jupyter.widget-view+json": {
       "model_id": "0e2d58f859524ac4b977cd8143d089f5",
       "version_major": 2,
       "version_minor": 0
      },
      "text/plain": [
       "HBox(children=(IntProgress(value=0, max=2), HTML(value='')))"
      ]
     },
     "metadata": {},
     "output_type": "display_data"
    },
    {
     "data": {
      "application/vnd.jupyter.widget-view+json": {
       "model_id": "b40cd1d79c254b3e8af93ed794dbb765",
       "version_major": 2,
       "version_minor": 0
      },
      "text/plain": [
       "HBox(children=(IntProgress(value=0, max=3), HTML(value='')))"
      ]
     },
     "metadata": {},
     "output_type": "display_data"
    },
    {
     "data": {
      "application/vnd.jupyter.widget-view+json": {
       "model_id": "74eae0d49e3042b9ab7977230ddfcbf6",
       "version_major": 2,
       "version_minor": 0
      },
      "text/plain": [
       "HBox(children=(IntProgress(value=0, max=4), HTML(value='')))"
      ]
     },
     "metadata": {},
     "output_type": "display_data"
    },
    {
     "data": {
      "application/vnd.jupyter.widget-view+json": {
       "model_id": "bc7591c240f946cf913d593cc736be4a",
       "version_major": 2,
       "version_minor": 0
      },
      "text/plain": [
       "HBox(children=(IntProgress(value=0, max=5), HTML(value='')))"
      ]
     },
     "metadata": {},
     "output_type": "display_data"
    },
    {
     "data": {
      "application/vnd.jupyter.widget-view+json": {
       "model_id": "fba066ee3134442eb55c822bbb803bb9",
       "version_major": 2,
       "version_minor": 0
      },
      "text/plain": [
       "HBox(children=(IntProgress(value=0, max=9), HTML(value='')))"
      ]
     },
     "metadata": {},
     "output_type": "display_data"
    },
    {
     "data": {
      "application/vnd.jupyter.widget-view+json": {
       "model_id": "80f045a215b54caba02a367571c97498",
       "version_major": 2,
       "version_minor": 0
      },
      "text/plain": [
       "HBox(children=(IntProgress(value=0, max=5), HTML(value='')))"
      ]
     },
     "metadata": {},
     "output_type": "display_data"
    },
    {
     "data": {
      "application/vnd.jupyter.widget-view+json": {
       "model_id": "02ddd714e29748e9a9b806459bbae53a",
       "version_major": 2,
       "version_minor": 0
      },
      "text/plain": [
       "HBox(children=(IntProgress(value=0, max=3), HTML(value='')))"
      ]
     },
     "metadata": {},
     "output_type": "display_data"
    },
    {
     "data": {
      "application/vnd.jupyter.widget-view+json": {
       "model_id": "13e9e2ec8ba8407f8d77ce50448117cc",
       "version_major": 2,
       "version_minor": 0
      },
      "text/plain": [
       "HBox(children=(IntProgress(value=0, max=2), HTML(value='')))"
      ]
     },
     "metadata": {},
     "output_type": "display_data"
    },
    {
     "data": {
      "application/vnd.jupyter.widget-view+json": {
       "model_id": "0999526e192e4336a7a821ca16d1828c",
       "version_major": 2,
       "version_minor": 0
      },
      "text/plain": [
       "HBox(children=(IntProgress(value=0, max=2), HTML(value='')))"
      ]
     },
     "metadata": {},
     "output_type": "display_data"
    },
    {
     "data": {
      "application/vnd.jupyter.widget-view+json": {
       "model_id": "3f97bdc782ef4694b3fce197148f194f",
       "version_major": 2,
       "version_minor": 0
      },
      "text/plain": [
       "HBox(children=(IntProgress(value=0, max=9), HTML(value='')))"
      ]
     },
     "metadata": {},
     "output_type": "display_data"
    },
    {
     "data": {
      "application/vnd.jupyter.widget-view+json": {
       "model_id": "c75c481e82f64d038a3c8d3ce3f93b35",
       "version_major": 2,
       "version_minor": 0
      },
      "text/plain": [
       "HBox(children=(IntProgress(value=0, max=9), HTML(value='')))"
      ]
     },
     "metadata": {},
     "output_type": "display_data"
    },
    {
     "data": {
      "application/vnd.jupyter.widget-view+json": {
       "model_id": "42bd5cd2f8d44735abbf20e2c9e63096",
       "version_major": 2,
       "version_minor": 0
      },
      "text/plain": [
       "HBox(children=(IntProgress(value=0, max=5), HTML(value='')))"
      ]
     },
     "metadata": {},
     "output_type": "display_data"
    },
    {
     "data": {
      "application/vnd.jupyter.widget-view+json": {
       "model_id": "4bbd67e4e5444643a68b1551106d7d3a",
       "version_major": 2,
       "version_minor": 0
      },
      "text/plain": [
       "HBox(children=(IntProgress(value=0, max=6), HTML(value='')))"
      ]
     },
     "metadata": {},
     "output_type": "display_data"
    },
    {
     "data": {
      "application/vnd.jupyter.widget-view+json": {
       "model_id": "3f90a1a205094902a249c6e0747a2915",
       "version_major": 2,
       "version_minor": 0
      },
      "text/plain": [
       "HBox(children=(IntProgress(value=0, max=5), HTML(value='')))"
      ]
     },
     "metadata": {},
     "output_type": "display_data"
    },
    {
     "data": {
      "application/vnd.jupyter.widget-view+json": {
       "model_id": "cb3e0c4dd2234a03977c39e6b365139a",
       "version_major": 2,
       "version_minor": 0
      },
      "text/plain": [
       "HBox(children=(IntProgress(value=0, max=7), HTML(value='')))"
      ]
     },
     "metadata": {},
     "output_type": "display_data"
    },
    {
     "data": {
      "application/vnd.jupyter.widget-view+json": {
       "model_id": "3e068e22c0f34d80bb1c40cc6fc47764",
       "version_major": 2,
       "version_minor": 0
      },
      "text/plain": [
       "HBox(children=(IntProgress(value=0, max=7), HTML(value='')))"
      ]
     },
     "metadata": {},
     "output_type": "display_data"
    },
    {
     "data": {
      "application/vnd.jupyter.widget-view+json": {
       "model_id": "eff94a9a905d412cbc6baa4f8b43c506",
       "version_major": 2,
       "version_minor": 0
      },
      "text/plain": [
       "HBox(children=(IntProgress(value=0, max=4), HTML(value='')))"
      ]
     },
     "metadata": {},
     "output_type": "display_data"
    },
    {
     "data": {
      "application/vnd.jupyter.widget-view+json": {
       "model_id": "5fc0c004a2be4115920a36562196d129",
       "version_major": 2,
       "version_minor": 0
      },
      "text/plain": [
       "HBox(children=(IntProgress(value=0, max=5), HTML(value='')))"
      ]
     },
     "metadata": {},
     "output_type": "display_data"
    },
    {
     "data": {
      "application/vnd.jupyter.widget-view+json": {
       "model_id": "da33b09d019d4da6a4d7e9d2491955c2",
       "version_major": 2,
       "version_minor": 0
      },
      "text/plain": [
       "HBox(children=(IntProgress(value=0, max=4), HTML(value='')))"
      ]
     },
     "metadata": {},
     "output_type": "display_data"
    },
    {
     "data": {
      "application/vnd.jupyter.widget-view+json": {
       "model_id": "cf72eb18258543bf89ad737aaaf4a24d",
       "version_major": 2,
       "version_minor": 0
      },
      "text/plain": [
       "HBox(children=(IntProgress(value=0, max=8), HTML(value='')))"
      ]
     },
     "metadata": {},
     "output_type": "display_data"
    },
    {
     "data": {
      "application/vnd.jupyter.widget-view+json": {
       "model_id": "ddf1da8a7a0c430292bd4d840e182938",
       "version_major": 2,
       "version_minor": 0
      },
      "text/plain": [
       "HBox(children=(IntProgress(value=0, max=4), HTML(value='')))"
      ]
     },
     "metadata": {},
     "output_type": "display_data"
    },
    {
     "data": {
      "application/vnd.jupyter.widget-view+json": {
       "model_id": "cc81ea44de7a4210837d56760d9bd4a5",
       "version_major": 2,
       "version_minor": 0
      },
      "text/plain": [
       "HBox(children=(IntProgress(value=0, max=9), HTML(value='')))"
      ]
     },
     "metadata": {},
     "output_type": "display_data"
    },
    {
     "data": {
      "application/vnd.jupyter.widget-view+json": {
       "model_id": "b8f320ee178348dabfc7528e4967fec0",
       "version_major": 2,
       "version_minor": 0
      },
      "text/plain": [
       "HBox(children=(IntProgress(value=0, max=11), HTML(value='')))"
      ]
     },
     "metadata": {},
     "output_type": "display_data"
    },
    {
     "data": {
      "application/vnd.jupyter.widget-view+json": {
       "model_id": "33c14bc7472b478886ac93070020e8c2",
       "version_major": 2,
       "version_minor": 0
      },
      "text/plain": [
       "HBox(children=(IntProgress(value=0, max=5), HTML(value='')))"
      ]
     },
     "metadata": {},
     "output_type": "display_data"
    },
    {
     "data": {
      "application/vnd.jupyter.widget-view+json": {
       "model_id": "c3b85239344248f7bbb52b4312aaca19",
       "version_major": 2,
       "version_minor": 0
      },
      "text/plain": [
       "HBox(children=(IntProgress(value=0, max=15), HTML(value='')))"
      ]
     },
     "metadata": {},
     "output_type": "display_data"
    },
    {
     "data": {
      "application/vnd.jupyter.widget-view+json": {
       "model_id": "1e66835ebc8b4be8be39bf7b24acabac",
       "version_major": 2,
       "version_minor": 0
      },
      "text/plain": [
       "HBox(children=(IntProgress(value=0, max=9), HTML(value='')))"
      ]
     },
     "metadata": {},
     "output_type": "display_data"
    },
    {
     "data": {
      "application/vnd.jupyter.widget-view+json": {
       "model_id": "4910da5694a24e4bac20189e1eaeef71",
       "version_major": 2,
       "version_minor": 0
      },
      "text/plain": [
       "HBox(children=(IntProgress(value=0, max=7), HTML(value='')))"
      ]
     },
     "metadata": {},
     "output_type": "display_data"
    },
    {
     "data": {
      "application/vnd.jupyter.widget-view+json": {
       "model_id": "f857782bdc7d47aea235af2e4a627b2a",
       "version_major": 2,
       "version_minor": 0
      },
      "text/plain": [
       "HBox(children=(IntProgress(value=0, max=19), HTML(value='')))"
      ]
     },
     "metadata": {},
     "output_type": "display_data"
    },
    {
     "data": {
      "application/vnd.jupyter.widget-view+json": {
       "model_id": "c006472696284af9aa4a9c897e4d31f3",
       "version_major": 2,
       "version_minor": 0
      },
      "text/plain": [
       "HBox(children=(IntProgress(value=0, max=19), HTML(value='')))"
      ]
     },
     "metadata": {},
     "output_type": "display_data"
    }
   ],
   "source": [
    "df_dict = {'job_title':[],'job_category':[],\n",
    "           'company':[],'location':[],\n",
    "           'region':[],'salary':[],\n",
    "           'link':[],'summary':[]}\n",
    "\n",
    "#url_template = \"http://www.indeed.com/jobs?q=data+scientist+%2420%2C000&l={}&start={}\"\n",
    "max_results_per_city = 294 # Set this to a high-value (5000) to generate more results. \n",
    "# Crawling more results, will also take much longer. First test your code on a small number of results and then expand.\n",
    "\n",
    "all_files = []\n",
    "\n",
    "for state in tqdm_notebook(state_searchlist[30:42]):\n",
    "\n",
    "    for role in tqdm_notebook(role_searchlist):\n",
    "        \n",
    "        count_url = f'https://www.indeed.com/jobs?as_ttl={role}&l={state}&radius=5000&fromage=any&limit=50&start=0&filter=0'\n",
    "\n",
    "        time.sleep(np.random.randint(0,1))\n",
    "\n",
    "        counter = requests.get(count_url)\n",
    "        soup_count = BeautifulSoup(counter.text,'html.parser')\n",
    "\n",
    "        try:\n",
    "            record_string = soup_count.find_all('div',attrs={'id':\"searchCountPages\"})[0].text\n",
    "            record_string = record_string.replace(\",\",\"\")\n",
    "            max_results_per_city = int(re.search(r\"(\\w+)\\sjobs\",record_string).group(1))\n",
    "        except:\n",
    "            max_results_per_city = 1\n",
    "         \n",
    "        for start in tqdm_notebook(range(0, max_results_per_city,50)):\n",
    "            time.sleep(np.random.randint(0,1))\n",
    "            \n",
    "            URL = f'https://www.indeed.com/jobs?as_ttl={role}&l={state}&radius=5000&fromage=any&limit=50&start={start}&filter=0'\n",
    "            \n",
    "            results = requests.get(URL)\n",
    "            soup = BeautifulSoup(results.text,'html.parser')\n",
    "                        \n",
    "            #print(city,int(max_results_per_city))\n",
    "            \n",
    "            #print(state,start,soup.find_all('div',attrs={'id':\"searchCountPages\"})[0].text)\n",
    "            \n",
    "            if len(soup.find_all('span',attrs={'class':'salary no-wrap'})) == 0:\n",
    "                \n",
    "                pass\n",
    "                \n",
    "            else:\n",
    "                for jobtile in soup.find_all('div',attrs={'class':re.compile(r'^jobsearch-Serp.*unified.*')}):\n",
    "\n",
    "                    if len(jobtile.find_all('span',attrs={'class':'salary no-wrap'})) == 0:\n",
    "                        pass\n",
    "                    else:\n",
    "                        all_files.append(jobtile)\n",
    "                        df_dict['job_category'].append(\" \".join(role.split(\"+\")).title())\n",
    "                        df_dict['region'].append(\" \".join(state.split(\"+\")).title())\n",
    "                        \n",
    "                        detail_link = \"https://indeed.com/\"+extract_href_from_result(jobtile)\n",
    "                        df_dict['link'].append(detail_link)\n",
    "                        time.sleep(np.random.randint(0,1))\n",
    "                        detailgrab = requests.get(detail_link)\n",
    "                        soup_detail = BeautifulSoup(detailgrab.text,'html.parser')\n",
    "                        \n",
    "                        try:\n",
    "                            df_dict['summary'].append(extract_summary_from_result(soup_detail).text)\n",
    "                        except:\n",
    "                            df_dict['summary'].append(np.nan)"
   ]
  },
  {
   "cell_type": "markdown",
   "metadata": {
    "focus": false,
    "id": "20339c09-5032-4e27-91be-286e9b46cd13"
   },
   "source": [
    "#### Use the functions you wrote above to parse out the 4 fields - location, title, company and salary. Create a dataframe from the results with those 4 columns."
   ]
  },
  {
   "cell_type": "code",
   "execution_count": 887,
   "metadata": {},
   "outputs": [],
   "source": [
    "for x in all_files:\n",
    "    try:\n",
    "        df_dict['location'].append(extract_location_from_result(x))\n",
    "    except:\n",
    "        df_dict['location'].append(np.nan)\n",
    "        \n",
    "    try:\n",
    "        df_dict['company'].append(extract_company_from_result(x))\n",
    "    except:\n",
    "        df_dict['company'].append(np.nan)\n",
    "        \n",
    "    try:\n",
    "        df_dict['salary'].append(extract_salary_from_result(x))\n",
    "        \n",
    "    except:\n",
    "        df_dict['salary'].append(np.nan)\n",
    "\n",
    "    try:\n",
    "        df_dict['job_title'].append(extract_jobtitle_from_result(x))\n",
    "        \n",
    "    except:\n",
    "        df_dict['job_title'].append(np.nan)"
   ]
  },
  {
   "cell_type": "code",
   "execution_count": 1663,
   "metadata": {
    "scrolled": false
   },
   "outputs": [
    {
     "data": {
      "text/plain": [
       "89.5784543325527"
      ]
     },
     "execution_count": 1663,
     "metadata": {},
     "output_type": "execute_result"
    }
   ],
   "source": [
    "df = pd.DataFrame(df_dict)\n",
    "\n",
    "np.sum(df[df.salary.notna()].duplicated() ==False)*100/df.shape[0]\n",
    "\n",
    "#df = df[df.salary.notna()]\n",
    "\n",
    "#df = df[df.duplicated()==False]\n",
    "\n",
    "#df.to_csv(\"us_jobs_40.csv\",index=False)"
   ]
  },
  {
   "cell_type": "markdown",
   "metadata": {},
   "source": [
    "### [Click here for Webscrape code for other countries](./other/global_job_numbers.ipynb)"
   ]
  },
  {
   "cell_type": "markdown",
   "metadata": {
    "focus": false,
    "id": "ff98ce64-78a7-441f-a675-63464e32c834"
   },
   "source": [
    "Lastly, we need to clean up salary data. \n",
    "\n",
    "1. Only a small number of the scraped results have salary information - only these will be used for modeling.\n",
    "1. Some of the salaries are not yearly but hourly or weekly, these will not be useful to us for now.\n",
    "1. Some of the entries may be duplicated.\n",
    "1. The salaries are given as text and usually with ranges."
   ]
  },
  {
   "cell_type": "markdown",
   "metadata": {
    "focus": false,
    "id": "ff98ce64-78a7-441f-a675-63464e32c834"
   },
   "source": [
    "#### Find the entries with annual salary entries, by filtering the entries without salaries or salaries that are not yearly (filter those that refer to hour or week). Also, remove duplicate entries."
   ]
  },
  {
   "cell_type": "code",
   "execution_count": 5,
   "metadata": {},
   "outputs": [],
   "source": [
    "import re\n",
    "import requests\n",
    "import pandas as pd\n",
    "import seaborn as sns\n",
    "import matplotlib.pyplot as plt\n",
    "pd.set_option('display.max_colwidth', 50)\n",
    "\n",
    "#Loading US salary csv's from web scraping and concatenating\n",
    "df_us1 = pd.read_csv(\"./webscraping/us_jobs_10.csv\")\n",
    "df_us2 = pd.read_csv(\"./webscraping/us_jobs_20.csv\")\n",
    "df_us3 = pd.read_csv(\"./webscraping/us_jobs_30.csv\")\n",
    "df_us4 = pd.read_csv(\"./webscraping/us_jobs_40.csv\")\n",
    "df_usa = pd.concat([df_us1,df_us2,df_us3,df_us4])\n",
    "\n",
    "#Loading UK, Australia and Canada salary csv's from web scraping\n",
    "df_uk = pd.read_csv(\"./webscraping/uk_jobs.csv\")\n",
    "df_aus = pd.read_csv(\"./webscraping/aus_jobs.csv\")\n",
    "df_can = pd.read_csv(\"./webscraping/can_jobs.csv\")"
   ]
  },
  {
   "cell_type": "code",
   "execution_count": 6,
   "metadata": {},
   "outputs": [],
   "source": [
    "#Setting country and exchange rate for UK\n",
    "df_uk['country'] = \"United Kingdom\"\n",
    "df_uk['exch_rate'] = 1"
   ]
  },
  {
   "cell_type": "code",
   "execution_count": 7,
   "metadata": {},
   "outputs": [],
   "source": [
    "#Using currency API to grab exchange rate dictionary for current figures\n",
    "currency_url = 'https://api.exchangeratesapi.io/latest'\n",
    "exch_rate_dict = requests.get(currency_url,params={\"base\":\"GBP\"}).json()"
   ]
  },
  {
   "cell_type": "code",
   "execution_count": 8,
   "metadata": {},
   "outputs": [],
   "source": [
    "#Setting country and exchange rate for Canada, US, Australia\n",
    "df_can['country'] = \"Canada\"\n",
    "df_can['exch_rate'] = exch_rate_dict['rates']['CAD']\n",
    "\n",
    "df_usa['country'] = \"United States\"\n",
    "df_usa['exch_rate'] = exch_rate_dict['rates']['USD']\n",
    "\n",
    "df_aus['country'] = \"Australia\"\n",
    "df_aus['exch_rate'] = exch_rate_dict['rates']['AUD']"
   ]
  },
  {
   "cell_type": "code",
   "execution_count": 9,
   "metadata": {},
   "outputs": [],
   "source": [
    "# Concatenating new dataframes and saving in global csv\n",
    "df = pd.concat([df_usa,df_uk,df_aus,df_can])\n",
    "df.to_csv(\"./webscraping/global_jobs_all.csv\",index=False)"
   ]
  },
  {
   "cell_type": "code",
   "execution_count": 10,
   "metadata": {},
   "outputs": [
    {
     "data": {
      "text/plain": [
       "(3056, 11)"
      ]
     },
     "execution_count": 10,
     "metadata": {},
     "output_type": "execute_result"
    }
   ],
   "source": [
    "#Dropping records with no salary information\n",
    "df = df[df.salary.notna()]\n",
    "\n",
    "#Removing dupplicates\n",
    "df = df[df.duplicated()==False]\n",
    "df['pay_rate'] = df.salary.apply(lambda x: 1 if \"year\" in x \n",
    "                             else 12 if \"month\" in x \n",
    "                             else 40*52 if \"hour\" in x \n",
    "                             else 52 if \"week\" in x \n",
    "                             else 5*52 if \"day\" in x else x)\n",
    "\n",
    "df.shape"
   ]
  },
  {
   "cell_type": "markdown",
   "metadata": {
    "focus": false,
    "id": "7d4bc860-b214-4f75-9cd0-b234830b1ec2"
   },
   "source": [
    "#### Write a function that takes a salary string and converts it to a number, averaging a salary range if necessary."
   ]
  },
  {
   "cell_type": "code",
   "execution_count": 11,
   "metadata": {
    "focus": false,
    "id": "a0f701e0-80bd-40ba-9101-4535860c0968",
    "scrolled": true
   },
   "outputs": [],
   "source": [
    "#Creating function to split lower and upper salary range, deterimine the median salary and calculate the equivalent\n",
    "# annual salary adjusted for currency exchange rates\n",
    "def salary_adj(df):\n",
    "    \n",
    "    df['lower'] = df.salary.apply(lambda x: x.split(\"-\")[0])\n",
    "\n",
    "    df['upper'] = df.salary.apply(lambda x: x.split(\"-\")[1] if len(x.split(\"-\"))==2 else x.split(\"-\")[0])\n",
    "    df['lower'] = df.lower.apply(lambda x: eval(re.search(r\"[\\d|.]+\",x.replace(\"$\",\"\").replace(\",\",\"\")).group()))\n",
    "    df['upper'] = df.upper.apply(lambda x: eval(re.search(r\"[\\d|.]+\",x.replace(\"$\",\"\").replace(\",\",\"\")).group()))\n",
    "\n",
    "    df['median_salary'] = (df.lower+df.upper)/2\n",
    "    df['equivalent_salary'] = df.pay_rate*df['median_salary']/df.exch_rate\n",
    "    \n",
    "    return df.reset_index(drop=True)"
   ]
  },
  {
   "cell_type": "code",
   "execution_count": 12,
   "metadata": {},
   "outputs": [],
   "source": [
    "#Using keywords to define the job level in the dataset\n",
    "def job_level(df):\n",
    "    \n",
    "    df[\"level\"] = df.job_title.apply(lambda x: \"Lead\" if \"lead\" in x.lower() \n",
    "                                     else \"Senior\" if (\"senior\" in x.lower()  or \"sr\" in x.lower() or \"master\" in x.lower())\n",
    "                                     else \"Principal\" if \"principal\" in x.lower()\n",
    "                                     else \"Mid\" if \"mid\" in x.lower() \n",
    "                                     else \"Junior\" if (\"junior\" in x.lower()  \n",
    "                                                       or \"jr\" in x.lower()  \n",
    "                                                       or \"entry\" in x.lower() \n",
    "                                                       or \"level 4\" in x.lower() \n",
    "                                                       or 'apprentice' in x.lower() \n",
    "                                                       or'intern' in x.lower() \n",
    "                                                       or 'trainee' in x.lower() \n",
    "                                                       or 'student' in x.lower() or 'graduate' in x.lower())\n",
    "                                     else \"Mid\")\n",
    "    return df"
   ]
  },
  {
   "cell_type": "code",
   "execution_count": 13,
   "metadata": {},
   "outputs": [],
   "source": [
    "df = salary_adj(df)\n",
    "\n",
    "df = job_level(df)\n",
    "\n",
    "df.summary = df.summary.astype(str)"
   ]
  },
  {
   "cell_type": "code",
   "execution_count": 14,
   "metadata": {},
   "outputs": [],
   "source": [
    "#Segmenting into Regions for the USA\n",
    "west_usa = ['Alaska','Arizona','California','Colorado','Hawaii','Idaho','Montana','Nevada','New Mexico','Oregon','Utah','Washington','Wyoming']\n",
    "midwest_usa = ['Illinois','Indiana','Iowa','Kansas','Michigan','Missouri','Minnesota','Nebraska','North Dakota','Ohio','South Dakota','Wisconsin']\n",
    "south_usa = ['Alabama','Arkansas','Delaware','Florida','Georgia','Kentucky','Louisiana','Maryland','Mississippi','Oklahoma','North Carolina','South Carolina',\n",
    "'Tennessee','Texas','Virginia','West Virginia']\n",
    "northeast_usa = ['Connecticut','Maine','New Hampshire','Massachusetts','New Jersey','New York','Pennsylvania','Rhode Island','Vermont']"
   ]
  },
  {
   "cell_type": "code",
   "execution_count": 15,
   "metadata": {},
   "outputs": [],
   "source": [
    "df.region = df.region.apply(lambda x : 'West' if x in west_usa\n",
    "               else 'MidWest' if x in midwest_usa\n",
    "               else 'South' if x in south_usa\n",
    "               else 'NorthEast' if x in northeast_usa\n",
    "               else x)"
   ]
  },
  {
   "cell_type": "code",
   "execution_count": 16,
   "metadata": {},
   "outputs": [
    {
     "data": {
      "text/html": [
       "<div>\n",
       "<style scoped>\n",
       "    .dataframe tbody tr th:only-of-type {\n",
       "        vertical-align: middle;\n",
       "    }\n",
       "\n",
       "    .dataframe tbody tr th {\n",
       "        vertical-align: top;\n",
       "    }\n",
       "\n",
       "    .dataframe thead th {\n",
       "        text-align: right;\n",
       "    }\n",
       "</style>\n",
       "<table border=\"1\" class=\"dataframe\">\n",
       "  <thead>\n",
       "    <tr style=\"text-align: right;\">\n",
       "      <th></th>\n",
       "      <th>job_title</th>\n",
       "      <th>job_category</th>\n",
       "      <th>company</th>\n",
       "      <th>location</th>\n",
       "      <th>region</th>\n",
       "      <th>salary</th>\n",
       "      <th>link</th>\n",
       "      <th>summary</th>\n",
       "      <th>country</th>\n",
       "      <th>exch_rate</th>\n",
       "      <th>pay_rate</th>\n",
       "      <th>lower</th>\n",
       "      <th>upper</th>\n",
       "      <th>median_salary</th>\n",
       "      <th>equivalent_salary</th>\n",
       "      <th>level</th>\n",
       "    </tr>\n",
       "  </thead>\n",
       "  <tbody>\n",
       "    <tr>\n",
       "      <th>1247</th>\n",
       "      <td>GeMS Research Scientist</td>\n",
       "      <td>Research Scientist</td>\n",
       "      <td>Your World Healthcare</td>\n",
       "      <td>London</td>\n",
       "      <td>England</td>\n",
       "      <td>£28 - £35 a day</td>\n",
       "      <td>https://www.indeed.co.uk//rc/clk?jk=de931820569b9984&amp;fccid=69cccacd95d597d1&amp;vjs=3</td>\n",
       "      <td>This Biomedical Science position is suitable for a qualified Biomedical Scientist to apply on a ...</td>\n",
       "      <td>United Kingdom</td>\n",
       "      <td>1.0</td>\n",
       "      <td>260</td>\n",
       "      <td>28.0</td>\n",
       "      <td>35.0</td>\n",
       "      <td>31.5</td>\n",
       "      <td>8190.0</td>\n",
       "      <td>Mid</td>\n",
       "    </tr>\n",
       "    <tr>\n",
       "      <th>2166</th>\n",
       "      <td>Data Scientist SC Cleared</td>\n",
       "      <td>Data Scientist</td>\n",
       "      <td>Hydrogen Group</td>\n",
       "      <td>London</td>\n",
       "      <td>England</td>\n",
       "      <td>£640 a month</td>\n",
       "      <td>https://www.indeed.co.uk//rc/clk?jk=d2d51c0abb2bf022&amp;fccid=251eba8a83187770&amp;vjs=3</td>\n",
       "      <td>Data Scientist with current SC Clearance - London - Contract\\n\\nDay Rate: Up to £640\\nLocation: ...</td>\n",
       "      <td>United Kingdom</td>\n",
       "      <td>1.0</td>\n",
       "      <td>12</td>\n",
       "      <td>640.0</td>\n",
       "      <td>640.0</td>\n",
       "      <td>640.0</td>\n",
       "      <td>7680.0</td>\n",
       "      <td>Mid</td>\n",
       "    </tr>\n",
       "    <tr>\n",
       "      <th>2194</th>\n",
       "      <td>Data Scientist</td>\n",
       "      <td>Data Scientist</td>\n",
       "      <td>J&amp;C Associates Ltd</td>\n",
       "      <td>London</td>\n",
       "      <td>England</td>\n",
       "      <td>£600 - £700 a month</td>\n",
       "      <td>https://www.indeed.co.uk//rc/clk?jk=449bf9be0fd6743e&amp;fccid=8ff70a8dd021e453&amp;vjs=3</td>\n",
       "      <td>London, England\\nSalary: £600 - £700\\nposted on 03.04.19\\n\\nSenior Scientist - London\\nWhat will...</td>\n",
       "      <td>United Kingdom</td>\n",
       "      <td>1.0</td>\n",
       "      <td>12</td>\n",
       "      <td>600.0</td>\n",
       "      <td>700.0</td>\n",
       "      <td>650.0</td>\n",
       "      <td>7800.0</td>\n",
       "      <td>Mid</td>\n",
       "    </tr>\n",
       "    <tr>\n",
       "      <th>2195</th>\n",
       "      <td>Data Scientist</td>\n",
       "      <td>Data Scientist</td>\n",
       "      <td>J&amp;C Associates Ltd</td>\n",
       "      <td>London</td>\n",
       "      <td>England</td>\n",
       "      <td>£600 - £700 a month</td>\n",
       "      <td>https://www.indeed.co.uk//rc/clk?jk=34ba8a200ea42999&amp;fccid=8ff70a8dd021e453&amp;vjs=3</td>\n",
       "      <td>London, England\\nSalary: £600 - £700\\nposted on 03.04.19\\n\\nSenior Data Scientist - London\\nWhat...</td>\n",
       "      <td>United Kingdom</td>\n",
       "      <td>1.0</td>\n",
       "      <td>12</td>\n",
       "      <td>600.0</td>\n",
       "      <td>700.0</td>\n",
       "      <td>650.0</td>\n",
       "      <td>7800.0</td>\n",
       "      <td>Mid</td>\n",
       "    </tr>\n",
       "    <tr>\n",
       "      <th>2443</th>\n",
       "      <td>Lambeth Youth Violence Data Analyst</td>\n",
       "      <td>Data Analyst</td>\n",
       "      <td>SW Locums</td>\n",
       "      <td>London</td>\n",
       "      <td>England</td>\n",
       "      <td>£25 a day</td>\n",
       "      <td>https://www.indeed.co.uk//rc/clk?jk=7dcc119e929f1a12&amp;fccid=cbbdee7fe5f8b1a9&amp;vjs=3</td>\n",
       "      <td>SW Locums are looking for Youth Violence Data Analyst. The role is to source, collect, analyse a...</td>\n",
       "      <td>United Kingdom</td>\n",
       "      <td>1.0</td>\n",
       "      <td>260</td>\n",
       "      <td>25.0</td>\n",
       "      <td>25.0</td>\n",
       "      <td>25.0</td>\n",
       "      <td>6500.0</td>\n",
       "      <td>Mid</td>\n",
       "    </tr>\n",
       "  </tbody>\n",
       "</table>\n",
       "</div>"
      ],
      "text/plain": [
       "                                job_title        job_category  \\\n",
       "1247              GeMS Research Scientist  Research Scientist   \n",
       "2166            Data Scientist SC Cleared      Data Scientist   \n",
       "2194                       Data Scientist      Data Scientist   \n",
       "2195                       Data Scientist      Data Scientist   \n",
       "2443  Lambeth Youth Violence Data Analyst        Data Analyst   \n",
       "\n",
       "                    company location   region               salary  \\\n",
       "1247  Your World Healthcare   London  England      £28 - £35 a day   \n",
       "2166         Hydrogen Group   London  England         £640 a month   \n",
       "2194     J&C Associates Ltd   London  England  £600 - £700 a month   \n",
       "2195     J&C Associates Ltd   London  England  £600 - £700 a month   \n",
       "2443              SW Locums   London  England            £25 a day   \n",
       "\n",
       "                                                                                   link  \\\n",
       "1247  https://www.indeed.co.uk//rc/clk?jk=de931820569b9984&fccid=69cccacd95d597d1&vjs=3   \n",
       "2166  https://www.indeed.co.uk//rc/clk?jk=d2d51c0abb2bf022&fccid=251eba8a83187770&vjs=3   \n",
       "2194  https://www.indeed.co.uk//rc/clk?jk=449bf9be0fd6743e&fccid=8ff70a8dd021e453&vjs=3   \n",
       "2195  https://www.indeed.co.uk//rc/clk?jk=34ba8a200ea42999&fccid=8ff70a8dd021e453&vjs=3   \n",
       "2443  https://www.indeed.co.uk//rc/clk?jk=7dcc119e929f1a12&fccid=cbbdee7fe5f8b1a9&vjs=3   \n",
       "\n",
       "                                                                                                  summary  \\\n",
       "1247  This Biomedical Science position is suitable for a qualified Biomedical Scientist to apply on a ...   \n",
       "2166  Data Scientist with current SC Clearance - London - Contract\\n\\nDay Rate: Up to £640\\nLocation: ...   \n",
       "2194  London, England\\nSalary: £600 - £700\\nposted on 03.04.19\\n\\nSenior Scientist - London\\nWhat will...   \n",
       "2195  London, England\\nSalary: £600 - £700\\nposted on 03.04.19\\n\\nSenior Data Scientist - London\\nWhat...   \n",
       "2443  SW Locums are looking for Youth Violence Data Analyst. The role is to source, collect, analyse a...   \n",
       "\n",
       "             country  exch_rate  pay_rate  lower  upper  median_salary  \\\n",
       "1247  United Kingdom        1.0       260   28.0   35.0           31.5   \n",
       "2166  United Kingdom        1.0        12  640.0  640.0          640.0   \n",
       "2194  United Kingdom        1.0        12  600.0  700.0          650.0   \n",
       "2195  United Kingdom        1.0        12  600.0  700.0          650.0   \n",
       "2443  United Kingdom        1.0       260   25.0   25.0           25.0   \n",
       "\n",
       "      equivalent_salary level  \n",
       "1247             8190.0   Mid  \n",
       "2166             7680.0   Mid  \n",
       "2194             7800.0   Mid  \n",
       "2195             7800.0   Mid  \n",
       "2443             6500.0   Mid  "
      ]
     },
     "execution_count": 16,
     "metadata": {},
     "output_type": "execute_result"
    }
   ],
   "source": [
    "pd.set_option('display.max_colwidth',100)\n",
    "df[(df.level == 'Mid')&(df.equivalent_salary<10000)][df[(df.level == 'Mid')&(df.equivalent_salary<10000)]['job_title'].str.contains(\"\")]"
   ]
  },
  {
   "cell_type": "code",
   "execution_count": 130,
   "metadata": {},
   "outputs": [
    {
     "data": {
      "image/png": "[encoded data removed]",
      "text/plain": [
       "<Figure size 720x432 with 1 Axes>"
      ]
     },
     "metadata": {
      "needs_background": "light"
     },
     "output_type": "display_data"
    }
   ],
   "source": [
    "df2 = df[['job_title','job_category','company','location','region','equivalent_salary','level','summary','country']]\n",
    "\n",
    "plt.figure(figsize=(10,6))\n",
    "#sns.distplot(df2.equivalent_salary,bins=range(5000,250000,5000),kde=False,hist_kws=dict(ec='k'),color='r',label='data related role')\n",
    "plt.title(\"Histogram of Annual Salary by Job Category\",fontsize=15)\n",
    "plt.xlabel(\"Equivalent Annual Salary (£)\",fontsize=15)\n",
    "plt.ylabel(\"Frequency\",fontsize=15)\n",
    "\n",
    "d_scient = df2[df2['job_category'] == 'Data Scientist']['equivalent_salary']\n",
    "d_analyst = df2[df2['job_category'] == 'Data Analyst']['equivalent_salary']\n",
    "m_learning = df2[df2['job_category'] == 'Machine Learning']['equivalent_salary']\n",
    "b_intel = df2[df2['job_category'] == 'Business Intelligence']['equivalent_salary']\n",
    "r_scient = df2[df2['job_category'] == 'Research Scientist']['equivalent_salary']\n",
    "level_labels = ['data scientist','machine learning','bus. intel','research scientist','data analyst']\n",
    "\n",
    "plt.hist([d_scient,m_learning,b_intel,r_scient,d_analyst],bins=range(5000,250000,5000),ec='k',label=level_labels,stacked=True)\n",
    "\n",
    "#df2[df2['job_category'] == 'Data Scientist']['equivalent_salary'].hist(bins=range(5000,250000,5000),ec='k',label='data scientist',alpha=0.75)\n",
    "plt.legend()\n",
    "plt.savefig(\"./images/data_science.png\");"
   ]
  },
  {
   "cell_type": "code",
   "execution_count": 123,
   "metadata": {},
   "outputs": [],
   "source": [
    "junior_level.label = 'junior-level'"
   ]
  },
  {
   "cell_type": "code",
   "execution_count": 134,
   "metadata": {},
   "outputs": [
    {
     "data": {
      "image/png": "[encoded data removed]",
      "text/plain": [
       "<Figure size 720x432 with 1 Axes>"
      ]
     },
     "metadata": {
      "needs_background": "light"
     },
     "output_type": "display_data"
    }
   ],
   "source": [
    "plt.figure(figsize=(10,6))\n",
    "plt.xlabel(\"Equivalent Annual Salary (£)\",fontsize=15)\n",
    "plt.ylabel(\"Frequency\",fontsize=15)\n",
    "plt.title(\"Histogram of Annual Salary by Job Level\",fontsize=15)\n",
    "\n",
    "junior_level = df2[df2['level'] == 'Junior']['equivalent_salary']\n",
    "senior_level = df2[df2['level'] == 'Senior']['equivalent_salary']\n",
    "mid_level = df2[df2['level'] == 'Mid']['equivalent_salary']\n",
    "princ_level = df2[df2['level'] == 'Principal']['equivalent_salary']\n",
    "lead_level = df2[df2['level'] == 'Lead']['equivalent_salary']\n",
    "level_labels = ['senior-level','junior-level','principal-level','lead-level','mid-level']\n",
    "\n",
    "plt.hist([senior_level,junior_level,princ_level,lead_level,mid_level],bins=range(5000,250000,5000),ec='k',label=level_labels,stacked=True)\n",
    "plt.legend()\n",
    "plt.savefig(\"./images/level.png\");"
   ]
  },
  {
   "cell_type": "code",
   "execution_count": 132,
   "metadata": {},
   "outputs": [
    {
     "data": {
      "image/png": "[encoded data removed]",
      "text/plain": [
       "<Figure size 720x432 with 1 Axes>"
      ]
     },
     "metadata": {
      "needs_background": "light"
     },
     "output_type": "display_data"
    }
   ],
   "source": [
    "plt.figure(figsize=(10,6))\n",
    "plt.xlabel(\"Equivalent Annual Salary (£)\",fontsize=15)\n",
    "plt.ylabel(\"Frequency\",fontsize=15)\n",
    "plt.title(\"Histogram of Annual Salary by Country\",fontsize=15)\n",
    "\n",
    "aus_ctry = df2[df2['country'] == 'Australia']['equivalent_salary']\n",
    "usa_ctry = df2[df2['country'] == 'United States']['equivalent_salary']\n",
    "uk_ctry = df2[df2['country'] == 'United Kingdom']['equivalent_salary']\n",
    "can_ctry = df2[df2['country'] == 'Canada']['equivalent_salary']\n",
    "level_labels = ['USA','Australia','Canada','UK']\n",
    "\n",
    "plt.hist([usa_ctry,aus_ctry,can_ctry,uk_ctry],bins=range(5000,250000,5000),ec='k',label=level_labels,stacked=True)\n",
    "plt.legend()\n",
    "plt.savefig(\"./images/country.png\");"
   ]
  },
  {
   "cell_type": "code",
   "execution_count": 126,
   "metadata": {},
   "outputs": [
    {
     "data": {
      "text/plain": [
       "array(['West', 'NorthEast', 'South', 'MidWest', 'Northern Ireland',\n",
       "       'Wales', 'Scotland', 'England', 'South Australia',\n",
       "       'Western Australia', 'Queensland', 'Victoria', 'New South Wales',\n",
       "       'Saskatchewan', 'Nova Scotia', 'Manitoba', 'Alberta',\n",
       "       'British Columbia', 'Quebec', 'Ontario'], dtype=object)"
      ]
     },
     "execution_count": 126,
     "metadata": {},
     "output_type": "execute_result"
    }
   ],
   "source": [
    "df2.region.unique()"
   ]
  },
  {
   "cell_type": "code",
   "execution_count": 133,
   "metadata": {},
   "outputs": [
    {
     "data": {
      "image/png": "[encoded data removed]",
      "text/plain": [
       "<Figure size 720x432 with 1 Axes>"
      ]
     },
     "metadata": {
      "needs_background": "light"
     },
     "output_type": "display_data"
    }
   ],
   "source": [
    "plt.figure(figsize=(10,6))\n",
    "plt.xlabel(\"Equivalent Annual Salary (£)\",fontsize=15)\n",
    "plt.ylabel(\"Frequency\",fontsize=15)\n",
    "plt.title(\"Histogram of Annual Salary by Region\",fontsize=15)\n",
    "\n",
    "west_region = df2[df2['region'] == 'West']['equivalent_salary']\n",
    "eng_region = df2[df2['region'] == 'England']['equivalent_salary']\n",
    "neast_region = df2[df2['region'] == 'NorthEast']['equivalent_salary']\n",
    "south_region = df2[df2['region'] == 'South']['equivalent_salary']\n",
    "othr_region = df2[(df2['region'] != 'West')&\n",
    "                  (df2['region'] != 'England')&\n",
    "                  (df2['region'] != 'NorthEast')&\n",
    "                  (df2['region'] != 'South')]['equivalent_salary']\n",
    "level_labels = ['Western US','England','NorthEast US','South US','Other']\n",
    "\n",
    "plt.hist([west_region,eng_region,neast_region,south_region,othr_region],bins=range(5000,250000,5000),ec='k',label=level_labels,stacked=True)\n",
    "plt.legend()\n",
    "plt.savefig(\"./images/region.png\");"
   ]
  },
  {
   "cell_type": "code",
   "execution_count": 2605,
   "metadata": {},
   "outputs": [
    {
     "data": {
      "text/html": [
       "<div>\n",
       "<style scoped>\n",
       "    .dataframe tbody tr th:only-of-type {\n",
       "        vertical-align: middle;\n",
       "    }\n",
       "\n",
       "    .dataframe tbody tr th {\n",
       "        vertical-align: top;\n",
       "    }\n",
       "\n",
       "    .dataframe thead th {\n",
       "        text-align: right;\n",
       "    }\n",
       "</style>\n",
       "<table border=\"1\" class=\"dataframe\">\n",
       "  <thead>\n",
       "    <tr style=\"text-align: right;\">\n",
       "      <th></th>\n",
       "      <th>job_title</th>\n",
       "      <th>job_category</th>\n",
       "      <th>company</th>\n",
       "      <th>location</th>\n",
       "      <th>region</th>\n",
       "      <th>equivalent_salary</th>\n",
       "      <th>level</th>\n",
       "      <th>summary</th>\n",
       "    </tr>\n",
       "  </thead>\n",
       "  <tbody>\n",
       "    <tr>\n",
       "      <th>635</th>\n",
       "      <td>Junior Data Scientist - Client Technical Specialist</td>\n",
       "      <td>Data Scientist</td>\n",
       "      <td>IBM</td>\n",
       "      <td>Austin, TX 78758 (North Austin area)</td>\n",
       "      <td>South</td>\n",
       "      <td>70170.343026</td>\n",
       "      <td>Junior</td>\n",
       "      <td>Are you a Junior Data Scientist with experience in Machine Learning, Optimization, Neural Networ...</td>\n",
       "    </tr>\n",
       "    <tr>\n",
       "      <th>857</th>\n",
       "      <td>Junior Data Scientist - New York City</td>\n",
       "      <td>Data Scientist</td>\n",
       "      <td>IBM</td>\n",
       "      <td>New York, NY 10001 (Chelsea area)</td>\n",
       "      <td>NorthEast</td>\n",
       "      <td>77967.047807</td>\n",
       "      <td>Junior</td>\n",
       "      <td>Are you a Junior Data Scientist with experience in Machine Learning, Optimization, Neural Networ...</td>\n",
       "    </tr>\n",
       "    <tr>\n",
       "      <th>1148</th>\n",
       "      <td>Junior Data Scientist</td>\n",
       "      <td>Data Scientist</td>\n",
       "      <td>Concept Information Technology</td>\n",
       "      <td>Cardiff</td>\n",
       "      <td>Wales</td>\n",
       "      <td>39000.000000</td>\n",
       "      <td>Junior</td>\n",
       "      <td>My client are government body based in Cardiff. They're seeking a Data Scientist on a 6 month co...</td>\n",
       "    </tr>\n",
       "    <tr>\n",
       "      <th>1724</th>\n",
       "      <td>Junior Data Scientist</td>\n",
       "      <td>Data Scientist</td>\n",
       "      <td>Oscar Technology</td>\n",
       "      <td>England</td>\n",
       "      <td>England</td>\n",
       "      <td>45000.500000</td>\n",
       "      <td>Junior</td>\n",
       "      <td>If you have a passion for using and want to apply an array of analytical tools to develop new pr...</td>\n",
       "    </tr>\n",
       "    <tr>\n",
       "      <th>1727</th>\n",
       "      <td>Junior Data Scientist</td>\n",
       "      <td>Data Scientist</td>\n",
       "      <td>Harnham</td>\n",
       "      <td>London</td>\n",
       "      <td>England</td>\n",
       "      <td>62500.000000</td>\n",
       "      <td>Junior</td>\n",
       "      <td>Junior Data Scientist\\nFTSE 250 Company\\nLondon\\n£60,000\\nTHE COMPANY\\nThe Harnham Data Science ...</td>\n",
       "    </tr>\n",
       "    <tr>\n",
       "      <th>1745</th>\n",
       "      <td>Junior Data Scientist</td>\n",
       "      <td>Data Scientist</td>\n",
       "      <td>Harnham</td>\n",
       "      <td>London</td>\n",
       "      <td>England</td>\n",
       "      <td>52500.000000</td>\n",
       "      <td>Junior</td>\n",
       "      <td>JUNIOR DATA SCIENTIST £50,000-£60,000 + COMPETITIVE BENEFITS\\nCENTRAL LONDON\\nAre you looking fo...</td>\n",
       "    </tr>\n",
       "    <tr>\n",
       "      <th>1794</th>\n",
       "      <td>Junior Data Scientist</td>\n",
       "      <td>Data Scientist</td>\n",
       "      <td>Unitemps</td>\n",
       "      <td>Stoke-on-Trent</td>\n",
       "      <td>England</td>\n",
       "      <td>22500.000000</td>\n",
       "      <td>Junior</td>\n",
       "      <td>Based in Stoke on Trent this industry leading retail solutions business is looking to recruit a ...</td>\n",
       "    </tr>\n",
       "    <tr>\n",
       "      <th>1824</th>\n",
       "      <td>Junior Python Data Engineer / Data Scientist</td>\n",
       "      <td>Data Scientist</td>\n",
       "      <td>Bettor Believe</td>\n",
       "      <td>London</td>\n",
       "      <td>England</td>\n",
       "      <td>40000.000000</td>\n",
       "      <td>Junior</td>\n",
       "      <td>We are looking for a talented developer with a strong mathematical and statistical background to...</td>\n",
       "    </tr>\n",
       "    <tr>\n",
       "      <th>1854</th>\n",
       "      <td>Junior Data Scientist</td>\n",
       "      <td>Data Scientist</td>\n",
       "      <td>Harnham</td>\n",
       "      <td>London</td>\n",
       "      <td>England</td>\n",
       "      <td>60500.000000</td>\n",
       "      <td>Junior</td>\n",
       "      <td>Junior Data Scientist\\nLondon, United Kingdom\\nSalary up to £60,000 + Benefits\\nJunior Data Scie...</td>\n",
       "    </tr>\n",
       "    <tr>\n",
       "      <th>2048</th>\n",
       "      <td>Junior Data Scientist- Machine Learning, Python, C++, Data Analytics</td>\n",
       "      <td>Data Scientist</td>\n",
       "      <td>ZenShin Talent</td>\n",
       "      <td>Cambridge</td>\n",
       "      <td>England</td>\n",
       "      <td>42500.000000</td>\n",
       "      <td>Junior</td>\n",
       "      <td>Junior Data Scientist- Machine Learning, Python, C++, Big Data Technologies, Analytics and Data ...</td>\n",
       "    </tr>\n",
       "    <tr>\n",
       "      <th>2171</th>\n",
       "      <td>Junior Data scientist</td>\n",
       "      <td>Data Scientist</td>\n",
       "      <td>Inspiring Interns</td>\n",
       "      <td>Lancashire</td>\n",
       "      <td>England</td>\n",
       "      <td>23000.000000</td>\n",
       "      <td>Junior</td>\n",
       "      <td>Information on the company\\nOur client is an international wall decoration group which product c...</td>\n",
       "    </tr>\n",
       "    <tr>\n",
       "      <th>2187</th>\n",
       "      <td>Junior Data Scientist (12 Month FTC)</td>\n",
       "      <td>Data Scientist</td>\n",
       "      <td>ADLIB</td>\n",
       "      <td>Cheltenham</td>\n",
       "      <td>England</td>\n",
       "      <td>27500.000000</td>\n",
       "      <td>Junior</td>\n",
       "      <td>Massively respected not for profit business\\nExcellent benefits package: flexi-time, competitive...</td>\n",
       "    </tr>\n",
       "    <tr>\n",
       "      <th>2927</th>\n",
       "      <td>Data Analyst/Junior Data Scientist</td>\n",
       "      <td>Data Scientist</td>\n",
       "      <td>S2M</td>\n",
       "      <td>Sydney NSW</td>\n",
       "      <td>New South Wales</td>\n",
       "      <td>45241.733250</td>\n",
       "      <td>Junior</td>\n",
       "      <td>2-3 Years' experience\\nUp to $90k package\\nClient-side opportunity with amazing career growth op...</td>\n",
       "    </tr>\n",
       "    <tr>\n",
       "      <th>2938</th>\n",
       "      <td>Data Analyst/Junior Data Scientist</td>\n",
       "      <td>Data Scientist</td>\n",
       "      <td>S2M</td>\n",
       "      <td>Sydney NSW</td>\n",
       "      <td>New South Wales</td>\n",
       "      <td>47903.011677</td>\n",
       "      <td>Junior</td>\n",
       "      <td>This is your chance to join a dynamic, collaborative team within a leading eCommerce brand and r...</td>\n",
       "    </tr>\n",
       "  </tbody>\n",
       "</table>\n",
       "</div>"
      ],
      "text/plain": [
       "                                                                 job_title  \\\n",
       "635                    Junior Data Scientist - Client Technical Specialist   \n",
       "857                                  Junior Data Scientist - New York City   \n",
       "1148                                                 Junior Data Scientist   \n",
       "1724                                                 Junior Data Scientist   \n",
       "1727                                                 Junior Data Scientist   \n",
       "1745                                                 Junior Data Scientist   \n",
       "1794                                                 Junior Data Scientist   \n",
       "1824                          Junior Python Data Engineer / Data Scientist   \n",
       "1854                                                 Junior Data Scientist   \n",
       "2048  Junior Data Scientist- Machine Learning, Python, C++, Data Analytics   \n",
       "2171                                                 Junior Data scientist   \n",
       "2187                                  Junior Data Scientist (12 Month FTC)   \n",
       "2927                                    Data Analyst/Junior Data Scientist   \n",
       "2938                                    Data Analyst/Junior Data Scientist   \n",
       "\n",
       "        job_category                         company  \\\n",
       "635   Data Scientist                             IBM   \n",
       "857   Data Scientist                             IBM   \n",
       "1148  Data Scientist  Concept Information Technology   \n",
       "1724  Data Scientist                Oscar Technology   \n",
       "1727  Data Scientist                         Harnham   \n",
       "1745  Data Scientist                         Harnham   \n",
       "1794  Data Scientist                        Unitemps   \n",
       "1824  Data Scientist                  Bettor Believe   \n",
       "1854  Data Scientist                         Harnham   \n",
       "2048  Data Scientist                  ZenShin Talent   \n",
       "2171  Data Scientist               Inspiring Interns   \n",
       "2187  Data Scientist                           ADLIB   \n",
       "2927  Data Scientist                             S2M   \n",
       "2938  Data Scientist                             S2M   \n",
       "\n",
       "                                  location           region  \\\n",
       "635   Austin, TX 78758 (North Austin area)            South   \n",
       "857      New York, NY 10001 (Chelsea area)        NorthEast   \n",
       "1148                               Cardiff            Wales   \n",
       "1724                               England          England   \n",
       "1727                                London          England   \n",
       "1745                                London          England   \n",
       "1794                        Stoke-on-Trent          England   \n",
       "1824                                London          England   \n",
       "1854                                London          England   \n",
       "2048                             Cambridge          England   \n",
       "2171                            Lancashire          England   \n",
       "2187                            Cheltenham          England   \n",
       "2927                            Sydney NSW  New South Wales   \n",
       "2938                            Sydney NSW  New South Wales   \n",
       "\n",
       "      equivalent_salary   level  \\\n",
       "635        70170.343026  Junior   \n",
       "857        77967.047807  Junior   \n",
       "1148       39000.000000  Junior   \n",
       "1724       45000.500000  Junior   \n",
       "1727       62500.000000  Junior   \n",
       "1745       52500.000000  Junior   \n",
       "1794       22500.000000  Junior   \n",
       "1824       40000.000000  Junior   \n",
       "1854       60500.000000  Junior   \n",
       "2048       42500.000000  Junior   \n",
       "2171       23000.000000  Junior   \n",
       "2187       27500.000000  Junior   \n",
       "2927       45241.733250  Junior   \n",
       "2938       47903.011677  Junior   \n",
       "\n",
       "                                                                                                  summary  \n",
       "635   Are you a Junior Data Scientist with experience in Machine Learning, Optimization, Neural Networ...  \n",
       "857   Are you a Junior Data Scientist with experience in Machine Learning, Optimization, Neural Networ...  \n",
       "1148  My client are government body based in Cardiff. They're seeking a Data Scientist on a 6 month co...  \n",
       "1724  If you have a passion for using and want to apply an array of analytical tools to develop new pr...  \n",
       "1727  Junior Data Scientist\\nFTSE 250 Company\\nLondon\\n£60,000\\nTHE COMPANY\\nThe Harnham Data Science ...  \n",
       "1745  JUNIOR DATA SCIENTIST £50,000-£60,000 + COMPETITIVE BENEFITS\\nCENTRAL LONDON\\nAre you looking fo...  \n",
       "1794  Based in Stoke on Trent this industry leading retail solutions business is looking to recruit a ...  \n",
       "1824  We are looking for a talented developer with a strong mathematical and statistical background to...  \n",
       "1854  Junior Data Scientist\\nLondon, United Kingdom\\nSalary up to £60,000 + Benefits\\nJunior Data Scie...  \n",
       "2048  Junior Data Scientist- Machine Learning, Python, C++, Big Data Technologies, Analytics and Data ...  \n",
       "2171  Information on the company\\nOur client is an international wall decoration group which product c...  \n",
       "2187  Massively respected not for profit business\\nExcellent benefits package: flexi-time, competitive...  \n",
       "2927  2-3 Years' experience\\nUp to $90k package\\nClient-side opportunity with amazing career growth op...  \n",
       "2938  This is your chance to join a dynamic, collaborative team within a leading eCommerce brand and r...  "
      ]
     },
     "execution_count": 2605,
     "metadata": {},
     "output_type": "execute_result"
    }
   ],
   "source": [
    "df2[(df2.job_title.str.contains(\"Junior\"))&(df2.job_category == \"Data Scientist\")]"
   ]
  },
  {
   "cell_type": "markdown",
   "metadata": {
    "focus": false,
    "id": "43e71edd-210e-42b1-9336-70a931f048af"
   },
   "source": [
    "### Save your results as a CSV"
   ]
  },
  {
   "cell_type": "code",
   "execution_count": 129,
   "metadata": {
    "focus": false,
    "id": "783fd153-28ac-47ab-bfca-27e7c1de95b4"
   },
   "outputs": [],
   "source": [
    "df.to_csv(\"classification_data.csv\",index=False)\n",
    "df.to_excel(\"classification_data.xls\",index=False)"
   ]
  },
  {
   "cell_type": "markdown",
   "metadata": {},
   "source": [
    "# [Go to Part 2 of Project by clicking this link!](project-04-charles-denbow-part-2.ipynb)"
   ]
  }
 ],
 "metadata": {
  "kernelspec": {
   "display_name": "Python 3",
   "language": "python",
   "name": "python3"
  },
  "language_info": {
   "codemirror_mode": {
    "name": "ipython",
    "version": 3
   },
   "file_extension": ".py",
   "mimetype": "text/x-python",
   "name": "python",
   "nbconvert_exporter": "python",
   "pygments_lexer": "ipython3",
   "version": "3.7.3"
  },
  "toc": {
   "base_numbering": 1,
   "nav_menu": {},
   "number_sections": false,
   "sideBar": true,
   "skip_h1_title": true,
   "title_cell": "Table of Contents",
   "title_sidebar": "Contents",
   "toc_cell": false,
   "toc_position": {},
   "toc_section_display": "block",
   "toc_window_display": true
  },
  "varInspector": {
   "cols": {
    "lenName": 16,
    "lenType": 16,
    "lenVar": 40
   },
   "kernels_config": {
    "python": {
     "delete_cmd_postfix": "",
     "delete_cmd_prefix": "del ",
     "library": "var_list.py",
     "varRefreshCmd": "print(var_dic_list())"
    },
    "r": {
     "delete_cmd_postfix": ") ",
     "delete_cmd_prefix": "rm(",
     "library": "var_list.r",
     "varRefreshCmd": "cat(var_dic_list()) "
    }
   },
   "types_to_exclude": [
    "module",
    "function",
    "builtin_function_or_method",
    "instance",
    "_Feature"
   ],
   "window_display": false
  }
 },
 "nbformat": 4,
 "nbformat_minor": 2
}
